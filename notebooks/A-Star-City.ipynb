{
 "cells": [
  {
   "cell_type": "markdown",
   "metadata": {},
   "source": [
    "## Finding Your Way In The City\n",
    "\n",
    "In this notebook you'll combine the work of previous exercises to calculate a minimal series of waypoints in order to get from a start location to a goal location.\n",
    "\n",
    "You'll reuse and modify your algorithms from:\n",
    "\n",
    "- A*\n",
    "- Configuration Space\n",
    "- Collinearity and/or Bresenham"
   ]
  },
  {
   "cell_type": "code",
   "execution_count": 13,
   "metadata": {},
   "outputs": [],
   "source": [
    "import numpy as np\n",
    "import matplotlib.pyplot as plt\n",
    "\n",
    "import sys\n",
    "sys.path.append('..')\n",
    "\n",
    "from grid import create_grid\n",
    "from astar import a_star_grid, heuristic\n",
    "\n",
    "%matplotlib inline\n",
    "\n",
    "#from bresenham import bresenham"
   ]
  },
  {
   "cell_type": "code",
   "execution_count": 2,
   "metadata": {},
   "outputs": [],
   "source": [
    "plt.rcParams['figure.figsize'] = 12, 12"
   ]
  },
  {
   "cell_type": "markdown",
   "metadata": {},
   "source": [
    "You'll notice we've imported `create_grid`, and `a_star`. These are functions you've implemented in previous exercises, and here you'll use them to create a map and find a path from a starting position to a goal position.\n",
    "\n",
    "To read the function signature and documentation execute `?` followed by the function name in a cell. In the example below we'll check the documentation for `create_grid`."
   ]
  },
  {
   "cell_type": "code",
   "execution_count": 3,
   "metadata": {},
   "outputs": [],
   "source": [
    "?create_grid"
   ]
  },
  {
   "cell_type": "markdown",
   "metadata": {},
   "source": [
    "If you would like to alter these implementations, you can modify [grid.py](/edit/grid.py) and [planning.py](/edit/planning.py) in the current directory."
   ]
  },
  {
   "cell_type": "code",
   "execution_count": 5,
   "metadata": {},
   "outputs": [
    {
     "name": "stdout",
     "output_type": "stream",
     "text": [
      "[[-310.2389   -439.2315     85.5         5.          5.         85.5     ]\n",
      " [-300.2389   -439.2315     85.5         5.          5.         85.5     ]\n",
      " [-290.2389   -439.2315     85.5         5.          5.         85.5     ]\n",
      " ...\n",
      " [ 257.8061    425.1645      1.75852     1.292725    1.292725    1.944791]\n",
      " [ 293.9967    368.3391      3.557666    1.129456    1.129456    3.667319]\n",
      " [ 281.5162    354.4156      4.999351    1.053772    1.053772    4.950246]]\n"
     ]
    }
   ],
   "source": [
    "# This is the same obstacle data from the previous lesson.\n",
    "filename = '../colliders.csv'\n",
    "data = np.loadtxt(filename, delimiter=',', dtype='Float64', skiprows=2)\n",
    "print(data)"
   ]
  },
  {
   "cell_type": "code",
   "execution_count": 9,
   "metadata": {},
   "outputs": [],
   "source": [
    "# Static drone altitude (meters)\n",
    "drone_altitude = 5\n",
    "safe_distance = 3\n",
    "grid,_,_ = create_grid(data, drone_altitude, safe_distance)"
   ]
  },
  {
   "cell_type": "code",
   "execution_count": 10,
   "metadata": {},
   "outputs": [
    {
     "data": {
      "image/png": "[encoded data removed]",
      "text/plain": [
       "<matplotlib.figure.Figure at 0x1b45e002198>"
      ]
     },
     "metadata": {
      "needs_background": "light"
     },
     "output_type": "display_data"
    }
   ],
   "source": [
    "# equivalent to\n",
    "# plt.imshow(np.flip(grid, 0))\n",
    "plt.imshow(grid, origin='lower') \n",
    "\n",
    "plt.xlabel('EAST')\n",
    "plt.ylabel('NORTH')\n",
    "plt.show()"
   ]
  },
  {
   "cell_type": "markdown",
   "metadata": {},
   "source": [
    "Next you'll compute the path from a start location to a goal location using A*."
   ]
  },
  {
   "cell_type": "markdown",
   "metadata": {},
   "source": [
    "Start and goal coordinates in *(north, east)*."
   ]
  },
  {
   "cell_type": "code",
   "execution_count": 11,
   "metadata": {},
   "outputs": [],
   "source": [
    "start_ne = (25,  100)\n",
    "goal_ne = (750., 370.)"
   ]
  },
  {
   "cell_type": "markdown",
   "metadata": {},
   "source": [
    "Compute the lowest cost path with `a_star`. "
   ]
  },
  {
   "cell_type": "code",
   "execution_count": 14,
   "metadata": {},
   "outputs": [
    {
     "name": "stdout",
     "output_type": "stream",
     "text": [
      "Found a path.\n",
      "[((25, 100), <Action.SE: (1, 1, 1.4142135623730951)>), ((26, 101), <Action.SE: (1, 1, 1.4142135623730951)>), ((27, 102), <Action.SE: (1, 1, 1.4142135623730951)>), ((28, 103), <Action.SE: (1, 1, 1.4142135623730951)>), ((29, 104), <Action.SE: (1, 1, 1.4142135623730951)>), ((30, 105), <Action.SE: (1, 1, 1.4142135623730951)>), ((31, 106), <Action.SE: (1, 1, 1.4142135623730951)>), ((32, 107), <Action.SE: (1, 1, 1.4142135623730951)>), ((33, 108), <Action.SE: (1, 1, 1.4142135623730951)>), ((34, 109), <Action.SE: (1, 1, 1.4142135623730951)>), ((35, 110), <Action.SE: (1, 1, 1.4142135623730951)>), ((36, 111), <Action.RIGHT: (0, 1, 1)>), ((36, 112), <Action.RIGHT: (0, 1, 1)>), ((36, 113), <Action.RIGHT: (0, 1, 1)>), ((36, 114), <Action.RIGHT: (0, 1, 1)>), ((36, 115), <Action.RIGHT: (0, 1, 1)>), ((36, 116), <Action.RIGHT: (0, 1, 1)>), ((36, 117), <Action.RIGHT: (0, 1, 1)>), ((36, 118), <Action.RIGHT: (0, 1, 1)>), ((36, 119), <Action.RIGHT: (0, 1, 1)>), ((36, 120), <Action.RIGHT: (0, 1, 1)>), ((36, 121), <Action.RIGHT: (0, 1, 1)>), ((36, 122), <Action.RIGHT: (0, 1, 1)>), ((36, 123), <Action.RIGHT: (0, 1, 1)>), ((36, 124), <Action.RIGHT: (0, 1, 1)>), ((36, 125), <Action.RIGHT: (0, 1, 1)>), ((36, 126), <Action.RIGHT: (0, 1, 1)>), ((36, 127), <Action.RIGHT: (0, 1, 1)>), ((36, 128), <Action.RIGHT: (0, 1, 1)>), ((36, 129), <Action.RIGHT: (0, 1, 1)>), ((36, 130), <Action.RIGHT: (0, 1, 1)>), ((36, 131), <Action.RIGHT: (0, 1, 1)>), ((36, 132), <Action.RIGHT: (0, 1, 1)>), ((36, 133), <Action.RIGHT: (0, 1, 1)>), ((36, 134), <Action.RIGHT: (0, 1, 1)>), ((36, 135), <Action.RIGHT: (0, 1, 1)>), ((36, 136), <Action.RIGHT: (0, 1, 1)>), ((36, 137), <Action.RIGHT: (0, 1, 1)>), ((36, 138), <Action.RIGHT: (0, 1, 1)>), ((36, 139), <Action.RIGHT: (0, 1, 1)>), ((36, 140), <Action.RIGHT: (0, 1, 1)>), ((36, 141), <Action.RIGHT: (0, 1, 1)>), ((36, 142), <Action.RIGHT: (0, 1, 1)>), ((36, 143), <Action.SE: (1, 1, 1.4142135623730951)>), ((37, 144), <Action.SE: (1, 1, 1.4142135623730951)>), ((38, 145), <Action.SE: (1, 1, 1.4142135623730951)>), ((39, 146), <Action.SE: (1, 1, 1.4142135623730951)>), ((40, 147), <Action.SE: (1, 1, 1.4142135623730951)>), ((41, 148), <Action.SE: (1, 1, 1.4142135623730951)>), ((42, 149), <Action.SE: (1, 1, 1.4142135623730951)>), ((43, 150), <Action.SE: (1, 1, 1.4142135623730951)>), ((44, 151), <Action.SE: (1, 1, 1.4142135623730951)>), ((45, 152), <Action.SE: (1, 1, 1.4142135623730951)>), ((46, 153), <Action.SE: (1, 1, 1.4142135623730951)>), ((47, 154), <Action.SE: (1, 1, 1.4142135623730951)>), ((48, 155), <Action.SE: (1, 1, 1.4142135623730951)>), ((49, 156), <Action.SE: (1, 1, 1.4142135623730951)>), ((50, 157), <Action.SE: (1, 1, 1.4142135623730951)>), ((51, 158), <Action.SE: (1, 1, 1.4142135623730951)>), ((52, 159), <Action.SE: (1, 1, 1.4142135623730951)>), ((53, 160), <Action.SE: (1, 1, 1.4142135623730951)>), ((54, 161), <Action.SE: (1, 1, 1.4142135623730951)>), ((55, 162), <Action.SE: (1, 1, 1.4142135623730951)>), ((56, 163), <Action.SE: (1, 1, 1.4142135623730951)>), ((57, 164), <Action.SE: (1, 1, 1.4142135623730951)>), ((58, 165), <Action.SE: (1, 1, 1.4142135623730951)>), ((59, 166), <Action.SE: (1, 1, 1.4142135623730951)>), ((60, 167), <Action.SE: (1, 1, 1.4142135623730951)>), ((61, 168), <Action.SE: (1, 1, 1.4142135623730951)>), ((62, 169), <Action.SE: (1, 1, 1.4142135623730951)>), ((63, 170), <Action.SE: (1, 1, 1.4142135623730951)>), ((64, 171), <Action.SE: (1, 1, 1.4142135623730951)>), ((65, 172), <Action.SE: (1, 1, 1.4142135623730951)>), ((66, 173), <Action.SE: (1, 1, 1.4142135623730951)>), ((67, 174), <Action.SE: (1, 1, 1.4142135623730951)>), ((68, 175), <Action.SE: (1, 1, 1.4142135623730951)>), ((69, 176), <Action.SE: (1, 1, 1.4142135623730951)>), ((70, 177), <Action.SE: (1, 1, 1.4142135623730951)>), ((71, 178), <Action.SE: (1, 1, 1.4142135623730951)>), ((72, 179), <Action.SE: (1, 1, 1.4142135623730951)>), ((73, 180), <Action.SE: (1, 1, 1.4142135623730951)>), ((74, 181), <Action.SE: (1, 1, 1.4142135623730951)>), ((75, 182), <Action.SE: (1, 1, 1.4142135623730951)>), ((76, 183), <Action.SE: (1, 1, 1.4142135623730951)>), ((77, 184), <Action.SE: (1, 1, 1.4142135623730951)>), ((78, 185), <Action.SE: (1, 1, 1.4142135623730951)>), ((79, 186), <Action.SE: (1, 1, 1.4142135623730951)>), ((80, 187), <Action.SE: (1, 1, 1.4142135623730951)>), ((81, 188), <Action.SE: (1, 1, 1.4142135623730951)>), ((82, 189), <Action.SE: (1, 1, 1.4142135623730951)>), ((83, 190), <Action.SE: (1, 1, 1.4142135623730951)>), ((84, 191), <Action.SE: (1, 1, 1.4142135623730951)>), ((85, 192), <Action.SE: (1, 1, 1.4142135623730951)>), ((86, 193), <Action.SE: (1, 1, 1.4142135623730951)>), ((87, 194), <Action.SE: (1, 1, 1.4142135623730951)>), ((88, 195), <Action.SE: (1, 1, 1.4142135623730951)>), ((89, 196), <Action.SE: (1, 1, 1.4142135623730951)>), ((90, 197), <Action.SE: (1, 1, 1.4142135623730951)>), ((91, 198), <Action.SE: (1, 1, 1.4142135623730951)>), ((92, 199), <Action.SE: (1, 1, 1.4142135623730951)>), ((93, 200), <Action.SE: (1, 1, 1.4142135623730951)>), ((94, 201), <Action.SE: (1, 1, 1.4142135623730951)>), ((95, 202), <Action.SE: (1, 1, 1.4142135623730951)>), ((96, 203), <Action.SE: (1, 1, 1.4142135623730951)>), ((97, 204), <Action.SE: (1, 1, 1.4142135623730951)>), ((98, 205), <Action.SE: (1, 1, 1.4142135623730951)>), ((99, 206), <Action.SE: (1, 1, 1.4142135623730951)>), ((100, 207), <Action.SE: (1, 1, 1.4142135623730951)>), ((101, 208), <Action.SE: (1, 1, 1.4142135623730951)>), ((102, 209), <Action.SE: (1, 1, 1.4142135623730951)>), ((103, 210), <Action.SE: (1, 1, 1.4142135623730951)>), ((104, 211), <Action.SE: (1, 1, 1.4142135623730951)>), ((105, 212), <Action.SE: (1, 1, 1.4142135623730951)>), ((106, 213), <Action.SE: (1, 1, 1.4142135623730951)>), ((107, 214), <Action.SE: (1, 1, 1.4142135623730951)>), ((108, 215), <Action.SE: (1, 1, 1.4142135623730951)>), ((109, 216), <Action.SE: (1, 1, 1.4142135623730951)>), ((110, 217), <Action.SE: (1, 1, 1.4142135623730951)>), ((111, 218), <Action.SE: (1, 1, 1.4142135623730951)>), ((112, 219), <Action.SE: (1, 1, 1.4142135623730951)>), ((113, 220), <Action.SE: (1, 1, 1.4142135623730951)>), ((114, 221), <Action.SE: (1, 1, 1.4142135623730951)>), ((115, 222), <Action.SE: (1, 1, 1.4142135623730951)>), ((116, 223), <Action.SE: (1, 1, 1.4142135623730951)>), ((117, 224), <Action.SE: (1, 1, 1.4142135623730951)>), ((118, 225), <Action.SE: (1, 1, 1.4142135623730951)>), ((119, 226), <Action.SE: (1, 1, 1.4142135623730951)>), ((120, 227), <Action.SE: (1, 1, 1.4142135623730951)>), ((121, 228), <Action.SE: (1, 1, 1.4142135623730951)>), ((122, 229), <Action.SE: (1, 1, 1.4142135623730951)>), ((123, 230), <Action.SE: (1, 1, 1.4142135623730951)>), ((124, 231), <Action.SE: (1, 1, 1.4142135623730951)>), ((125, 232), <Action.SE: (1, 1, 1.4142135623730951)>), ((126, 233), <Action.SE: (1, 1, 1.4142135623730951)>), ((127, 234), <Action.SE: (1, 1, 1.4142135623730951)>), ((128, 235), <Action.SE: (1, 1, 1.4142135623730951)>), ((129, 236), <Action.SE: (1, 1, 1.4142135623730951)>), ((130, 237), <Action.SE: (1, 1, 1.4142135623730951)>), ((131, 238), <Action.SE: (1, 1, 1.4142135623730951)>), ((132, 239), <Action.SE: (1, 1, 1.4142135623730951)>), ((133, 240), <Action.SE: (1, 1, 1.4142135623730951)>), ((134, 241), <Action.SE: (1, 1, 1.4142135623730951)>), ((135, 242), <Action.SE: (1, 1, 1.4142135623730951)>), ((136, 243), <Action.SE: (1, 1, 1.4142135623730951)>), ((137, 244), <Action.SE: (1, 1, 1.4142135623730951)>), ((138, 245), <Action.SE: (1, 1, 1.4142135623730951)>), ((139, 246), <Action.SE: (1, 1, 1.4142135623730951)>), ((140, 247), <Action.SE: (1, 1, 1.4142135623730951)>), ((141, 248), <Action.SE: (1, 1, 1.4142135623730951)>), ((142, 249), <Action.SE: (1, 1, 1.4142135623730951)>), ((143, 250), <Action.SE: (1, 1, 1.4142135623730951)>), ((144, 251), <Action.SE: (1, 1, 1.4142135623730951)>), ((145, 252), <Action.SE: (1, 1, 1.4142135623730951)>), ((146, 253), <Action.SE: (1, 1, 1.4142135623730951)>), ((147, 254), <Action.SE: (1, 1, 1.4142135623730951)>), ((148, 255), <Action.SE: (1, 1, 1.4142135623730951)>), ((149, 256), <Action.SE: (1, 1, 1.4142135623730951)>), ((150, 257), <Action.SE: (1, 1, 1.4142135623730951)>), ((151, 258), <Action.SE: (1, 1, 1.4142135623730951)>), ((152, 259), <Action.SE: (1, 1, 1.4142135623730951)>), ((153, 260), <Action.SE: (1, 1, 1.4142135623730951)>), ((154, 261), <Action.SE: (1, 1, 1.4142135623730951)>), ((155, 262), <Action.SE: (1, 1, 1.4142135623730951)>), ((156, 263), <Action.SE: (1, 1, 1.4142135623730951)>), ((157, 264), <Action.SE: (1, 1, 1.4142135623730951)>), ((158, 265), <Action.SE: (1, 1, 1.4142135623730951)>), ((159, 266), <Action.SE: (1, 1, 1.4142135623730951)>), ((160, 267), <Action.SE: (1, 1, 1.4142135623730951)>), ((161, 268), <Action.SE: (1, 1, 1.4142135623730951)>), ((162, 269), <Action.SE: (1, 1, 1.4142135623730951)>), ((163, 270), <Action.SE: (1, 1, 1.4142135623730951)>), ((164, 271), <Action.SE: (1, 1, 1.4142135623730951)>), ((165, 272), <Action.SE: (1, 1, 1.4142135623730951)>), ((166, 273), <Action.SE: (1, 1, 1.4142135623730951)>), ((167, 274), <Action.SE: (1, 1, 1.4142135623730951)>), ((168, 275), <Action.SE: (1, 1, 1.4142135623730951)>), ((169, 276), <Action.SE: (1, 1, 1.4142135623730951)>), ((170, 277), <Action.SE: (1, 1, 1.4142135623730951)>), ((171, 278), <Action.SE: (1, 1, 1.4142135623730951)>), ((172, 279), <Action.SE: (1, 1, 1.4142135623730951)>), ((173, 280), <Action.SE: (1, 1, 1.4142135623730951)>), ((174, 281), <Action.SE: (1, 1, 1.4142135623730951)>), ((175, 282), <Action.SE: (1, 1, 1.4142135623730951)>), ((176, 283), <Action.RIGHT: (0, 1, 1)>), ((176, 284), <Action.RIGHT: (0, 1, 1)>), ((176, 285), <Action.RIGHT: (0, 1, 1)>), ((176, 286), <Action.RIGHT: (0, 1, 1)>), ((176, 287), <Action.RIGHT: (0, 1, 1)>), ((176, 288), <Action.RIGHT: (0, 1, 1)>), ((176, 289), <Action.RIGHT: (0, 1, 1)>), ((176, 290), <Action.RIGHT: (0, 1, 1)>), ((176, 291), <Action.RIGHT: (0, 1, 1)>), ((176, 292), <Action.RIGHT: (0, 1, 1)>), ((176, 293), <Action.SE: (1, 1, 1.4142135623730951)>), ((177, 294), <Action.SE: (1, 1, 1.4142135623730951)>), ((178, 295), <Action.SE: (1, 1, 1.4142135623730951)>), ((179, 296), <Action.SE: (1, 1, 1.4142135623730951)>), ((180, 297), <Action.SE: (1, 1, 1.4142135623730951)>), ((181, 298), <Action.SE: (1, 1, 1.4142135623730951)>), ((182, 299), <Action.SE: (1, 1, 1.4142135623730951)>), ((183, 300), <Action.SE: (1, 1, 1.4142135623730951)>), ((184, 301), <Action.SE: (1, 1, 1.4142135623730951)>), ((185, 302), <Action.SE: (1, 1, 1.4142135623730951)>), ((186, 303), <Action.SE: (1, 1, 1.4142135623730951)>), ((187, 304), <Action.SE: (1, 1, 1.4142135623730951)>), ((188, 305), <Action.SE: (1, 1, 1.4142135623730951)>), ((189, 306), <Action.SE: (1, 1, 1.4142135623730951)>), ((190, 307), <Action.SE: (1, 1, 1.4142135623730951)>), ((191, 308), <Action.SE: (1, 1, 1.4142135623730951)>), ((192, 309), <Action.SE: (1, 1, 1.4142135623730951)>), ((193, 310), <Action.SE: (1, 1, 1.4142135623730951)>), ((194, 311), <Action.SE: (1, 1, 1.4142135623730951)>), ((195, 312), <Action.SE: (1, 1, 1.4142135623730951)>), ((196, 313), <Action.SE: (1, 1, 1.4142135623730951)>), ((197, 314), <Action.SE: (1, 1, 1.4142135623730951)>), ((198, 315), <Action.SE: (1, 1, 1.4142135623730951)>), ((199, 316), <Action.SE: (1, 1, 1.4142135623730951)>), ((200, 317), <Action.SE: (1, 1, 1.4142135623730951)>), ((201, 318), <Action.SE: (1, 1, 1.4142135623730951)>), ((202, 319), <Action.SE: (1, 1, 1.4142135623730951)>), ((203, 320), <Action.SE: (1, 1, 1.4142135623730951)>), ((204, 321), <Action.SE: (1, 1, 1.4142135623730951)>), ((205, 322), <Action.SE: (1, 1, 1.4142135623730951)>), ((206, 323), <Action.SE: (1, 1, 1.4142135623730951)>), ((207, 324), <Action.DOWN: (1, 0, 1)>), ((208, 324), <Action.DOWN: (1, 0, 1)>), ((209, 324), <Action.DOWN: (1, 0, 1)>), ((210, 324), <Action.DOWN: (1, 0, 1)>), ((211, 324), <Action.DOWN: (1, 0, 1)>), ((212, 324), <Action.DOWN: (1, 0, 1)>), ((213, 324), <Action.DOWN: (1, 0, 1)>), ((214, 324), <Action.DOWN: (1, 0, 1)>), ((215, 324), <Action.DOWN: (1, 0, 1)>), ((216, 324), <Action.DOWN: (1, 0, 1)>), ((217, 324), <Action.DOWN: (1, 0, 1)>), ((218, 324), <Action.DOWN: (1, 0, 1)>), ((219, 324), <Action.DOWN: (1, 0, 1)>), ((220, 324), <Action.DOWN: (1, 0, 1)>), ((221, 324), <Action.DOWN: (1, 0, 1)>), ((222, 324), <Action.DOWN: (1, 0, 1)>), ((223, 324), <Action.DOWN: (1, 0, 1)>), ((224, 324), <Action.DOWN: (1, 0, 1)>), ((225, 324), <Action.DOWN: (1, 0, 1)>), ((226, 324), <Action.DOWN: (1, 0, 1)>), ((227, 324), <Action.DOWN: (1, 0, 1)>), ((228, 324), <Action.DOWN: (1, 0, 1)>), ((229, 324), <Action.DOWN: (1, 0, 1)>), ((230, 324), <Action.DOWN: (1, 0, 1)>), ((231, 324), <Action.DOWN: (1, 0, 1)>), ((232, 324), <Action.DOWN: (1, 0, 1)>), ((233, 324), <Action.DOWN: (1, 0, 1)>), ((234, 324), <Action.DOWN: (1, 0, 1)>), ((235, 324), <Action.DOWN: (1, 0, 1)>), ((236, 324), <Action.DOWN: (1, 0, 1)>), ((237, 324), <Action.DOWN: (1, 0, 1)>), ((238, 324), <Action.DOWN: (1, 0, 1)>), ((239, 324), <Action.DOWN: (1, 0, 1)>), ((240, 324), <Action.DOWN: (1, 0, 1)>), ((241, 324), <Action.DOWN: (1, 0, 1)>), ((242, 324), <Action.DOWN: (1, 0, 1)>), ((243, 324), <Action.DOWN: (1, 0, 1)>), ((244, 324), <Action.DOWN: (1, 0, 1)>), ((245, 324), <Action.DOWN: (1, 0, 1)>), ((246, 324), <Action.DOWN: (1, 0, 1)>), ((247, 324), <Action.DOWN: (1, 0, 1)>), ((248, 324), <Action.DOWN: (1, 0, 1)>), ((249, 324), <Action.DOWN: (1, 0, 1)>), ((250, 324), <Action.DOWN: (1, 0, 1)>), ((251, 324), <Action.DOWN: (1, 0, 1)>), ((252, 324), <Action.DOWN: (1, 0, 1)>), ((253, 324), <Action.DOWN: (1, 0, 1)>), ((254, 324), <Action.DOWN: (1, 0, 1)>), ((255, 324), <Action.DOWN: (1, 0, 1)>), ((256, 324), <Action.DOWN: (1, 0, 1)>), ((257, 324), <Action.DOWN: (1, 0, 1)>), ((258, 324), <Action.DOWN: (1, 0, 1)>), ((259, 324), <Action.DOWN: (1, 0, 1)>), ((260, 324), <Action.DOWN: (1, 0, 1)>), ((261, 324), <Action.DOWN: (1, 0, 1)>), ((262, 324), <Action.DOWN: (1, 0, 1)>), ((263, 324), <Action.DOWN: (1, 0, 1)>), ((264, 324), <Action.DOWN: (1, 0, 1)>), ((265, 324), <Action.DOWN: (1, 0, 1)>), ((266, 324), <Action.DOWN: (1, 0, 1)>), ((267, 324), <Action.DOWN: (1, 0, 1)>), ((268, 324), <Action.DOWN: (1, 0, 1)>), ((269, 324), <Action.DOWN: (1, 0, 1)>), ((270, 324), <Action.DOWN: (1, 0, 1)>), ((271, 324), <Action.DOWN: (1, 0, 1)>), ((272, 324), <Action.DOWN: (1, 0, 1)>), ((273, 324), <Action.DOWN: (1, 0, 1)>), ((274, 324), <Action.DOWN: (1, 0, 1)>), ((275, 324), <Action.DOWN: (1, 0, 1)>), ((276, 324), <Action.DOWN: (1, 0, 1)>), ((277, 324), <Action.DOWN: (1, 0, 1)>), ((278, 324), <Action.DOWN: (1, 0, 1)>), ((279, 324), <Action.DOWN: (1, 0, 1)>), ((280, 324), <Action.DOWN: (1, 0, 1)>), ((281, 324), <Action.DOWN: (1, 0, 1)>), ((282, 324), <Action.DOWN: (1, 0, 1)>), ((283, 324), <Action.DOWN: (1, 0, 1)>), ((284, 324), <Action.DOWN: (1, 0, 1)>), ((285, 324), <Action.DOWN: (1, 0, 1)>), ((286, 324), <Action.DOWN: (1, 0, 1)>), ((287, 324), <Action.DOWN: (1, 0, 1)>), ((288, 324), <Action.DOWN: (1, 0, 1)>), ((289, 324), <Action.DOWN: (1, 0, 1)>), ((290, 324), <Action.DOWN: (1, 0, 1)>), ((291, 324), <Action.DOWN: (1, 0, 1)>), ((292, 324), <Action.DOWN: (1, 0, 1)>), ((293, 324), <Action.DOWN: (1, 0, 1)>), ((294, 324), <Action.DOWN: (1, 0, 1)>), ((295, 324), <Action.DOWN: (1, 0, 1)>), ((296, 324), <Action.DOWN: (1, 0, 1)>), ((297, 324), <Action.DOWN: (1, 0, 1)>), ((298, 324), <Action.DOWN: (1, 0, 1)>), ((299, 324), <Action.DOWN: (1, 0, 1)>), ((300, 324), <Action.DOWN: (1, 0, 1)>), ((301, 324), <Action.DOWN: (1, 0, 1)>), ((302, 324), <Action.DOWN: (1, 0, 1)>), ((303, 324), <Action.DOWN: (1, 0, 1)>), ((304, 324), <Action.DOWN: (1, 0, 1)>), ((305, 324), <Action.DOWN: (1, 0, 1)>), ((306, 324), <Action.DOWN: (1, 0, 1)>), ((307, 324), <Action.DOWN: (1, 0, 1)>), ((308, 324), <Action.DOWN: (1, 0, 1)>), ((309, 324), <Action.DOWN: (1, 0, 1)>), ((310, 324), <Action.DOWN: (1, 0, 1)>), ((311, 324), <Action.DOWN: (1, 0, 1)>), ((312, 324), <Action.DOWN: (1, 0, 1)>), ((313, 324), <Action.DOWN: (1, 0, 1)>), ((314, 324), <Action.DOWN: (1, 0, 1)>), ((315, 324), <Action.DOWN: (1, 0, 1)>), ((316, 324), <Action.DOWN: (1, 0, 1)>), ((317, 324), <Action.DOWN: (1, 0, 1)>), ((318, 324), <Action.DOWN: (1, 0, 1)>), ((319, 324), <Action.NE: (1, -1, 1.4142135623730951)>), ((320, 323), <Action.NE: (1, -1, 1.4142135623730951)>), ((321, 322), <Action.NE: (1, -1, 1.4142135623730951)>), ((322, 321), <Action.NE: (1, -1, 1.4142135623730951)>), ((323, 320), <Action.NE: (1, -1, 1.4142135623730951)>), ((324, 319), <Action.NE: (1, -1, 1.4142135623730951)>), ((325, 318), <Action.NE: (1, -1, 1.4142135623730951)>), ((326, 317), <Action.NE: (1, -1, 1.4142135623730951)>), ((327, 316), <Action.DOWN: (1, 0, 1)>), ((328, 316), <Action.DOWN: (1, 0, 1)>), ((329, 316), <Action.DOWN: (1, 0, 1)>), ((330, 316), <Action.DOWN: (1, 0, 1)>), ((331, 316), <Action.DOWN: (1, 0, 1)>), ((332, 316), <Action.DOWN: (1, 0, 1)>), ((333, 316), <Action.DOWN: (1, 0, 1)>), ((334, 316), <Action.DOWN: (1, 0, 1)>), ((335, 316), <Action.DOWN: (1, 0, 1)>), ((336, 316), <Action.DOWN: (1, 0, 1)>), ((337, 316), <Action.DOWN: (1, 0, 1)>), ((338, 316), <Action.DOWN: (1, 0, 1)>), ((339, 316), <Action.DOWN: (1, 0, 1)>), ((340, 316), <Action.DOWN: (1, 0, 1)>), ((341, 316), <Action.DOWN: (1, 0, 1)>), ((342, 316), <Action.DOWN: (1, 0, 1)>), ((343, 316), <Action.DOWN: (1, 0, 1)>), ((344, 316), <Action.DOWN: (1, 0, 1)>), ((345, 316), <Action.DOWN: (1, 0, 1)>), ((346, 316), <Action.DOWN: (1, 0, 1)>), ((347, 316), <Action.DOWN: (1, 0, 1)>), ((348, 316), <Action.DOWN: (1, 0, 1)>), ((349, 316), <Action.DOWN: (1, 0, 1)>), ((350, 316), <Action.DOWN: (1, 0, 1)>), ((351, 316), <Action.DOWN: (1, 0, 1)>), ((352, 316), <Action.DOWN: (1, 0, 1)>), ((353, 316), <Action.DOWN: (1, 0, 1)>), ((354, 316), <Action.DOWN: (1, 0, 1)>), ((355, 316), <Action.DOWN: (1, 0, 1)>), ((356, 316), <Action.DOWN: (1, 0, 1)>), ((357, 316), <Action.DOWN: (1, 0, 1)>), ((358, 316), <Action.DOWN: (1, 0, 1)>), ((359, 316), <Action.DOWN: (1, 0, 1)>), ((360, 316), <Action.DOWN: (1, 0, 1)>), ((361, 316), <Action.DOWN: (1, 0, 1)>), ((362, 316), <Action.DOWN: (1, 0, 1)>), ((363, 316), <Action.DOWN: (1, 0, 1)>), ((364, 316), <Action.DOWN: (1, 0, 1)>), ((365, 316), <Action.DOWN: (1, 0, 1)>), ((366, 316), <Action.DOWN: (1, 0, 1)>), ((367, 316), <Action.DOWN: (1, 0, 1)>), ((368, 316), <Action.DOWN: (1, 0, 1)>), ((369, 316), <Action.DOWN: (1, 0, 1)>), ((370, 316), <Action.DOWN: (1, 0, 1)>), ((371, 316), <Action.DOWN: (1, 0, 1)>), ((372, 316), <Action.DOWN: (1, 0, 1)>), ((373, 316), <Action.DOWN: (1, 0, 1)>), ((374, 316), <Action.DOWN: (1, 0, 1)>), ((375, 316), <Action.DOWN: (1, 0, 1)>), ((376, 316), <Action.DOWN: (1, 0, 1)>), ((377, 316), <Action.NE: (1, -1, 1.4142135623730951)>), ((378, 315), <Action.NE: (1, -1, 1.4142135623730951)>), ((379, 314), <Action.NE: (1, -1, 1.4142135623730951)>), ((380, 313), <Action.NE: (1, -1, 1.4142135623730951)>), ((381, 312), <Action.NE: (1, -1, 1.4142135623730951)>), ((382, 311), <Action.NE: (1, -1, 1.4142135623730951)>), ((383, 310), <Action.NE: (1, -1, 1.4142135623730951)>), ((384, 309), <Action.NE: (1, -1, 1.4142135623730951)>), ((385, 308), <Action.NE: (1, -1, 1.4142135623730951)>), ((386, 307), <Action.NE: (1, -1, 1.4142135623730951)>), ((387, 306), <Action.DOWN: (1, 0, 1)>), ((388, 306), <Action.DOWN: (1, 0, 1)>), ((389, 306), <Action.DOWN: (1, 0, 1)>), ((390, 306), <Action.DOWN: (1, 0, 1)>), ((391, 306), <Action.DOWN: (1, 0, 1)>), ((392, 306), <Action.DOWN: (1, 0, 1)>), ((393, 306), <Action.DOWN: (1, 0, 1)>), ((394, 306), <Action.DOWN: (1, 0, 1)>), ((395, 306), <Action.DOWN: (1, 0, 1)>), ((396, 306), <Action.DOWN: (1, 0, 1)>), ((397, 306), <Action.DOWN: (1, 0, 1)>), ((398, 306), <Action.DOWN: (1, 0, 1)>), ((399, 306), <Action.DOWN: (1, 0, 1)>), ((400, 306), <Action.DOWN: (1, 0, 1)>), ((401, 306), <Action.DOWN: (1, 0, 1)>), ((402, 306), <Action.DOWN: (1, 0, 1)>), ((403, 306), <Action.DOWN: (1, 0, 1)>), ((404, 306), <Action.DOWN: (1, 0, 1)>), ((405, 306), <Action.DOWN: (1, 0, 1)>), ((406, 306), <Action.DOWN: (1, 0, 1)>), ((407, 306), <Action.DOWN: (1, 0, 1)>), ((408, 306), <Action.DOWN: (1, 0, 1)>), ((409, 306), <Action.DOWN: (1, 0, 1)>), ((410, 306), <Action.DOWN: (1, 0, 1)>), ((411, 306), <Action.DOWN: (1, 0, 1)>), ((412, 306), <Action.DOWN: (1, 0, 1)>), ((413, 306), <Action.DOWN: (1, 0, 1)>), ((414, 306), <Action.DOWN: (1, 0, 1)>), ((415, 306), <Action.DOWN: (1, 0, 1)>), ((416, 306), <Action.DOWN: (1, 0, 1)>), ((417, 306), <Action.DOWN: (1, 0, 1)>), ((418, 306), <Action.DOWN: (1, 0, 1)>), ((419, 306), <Action.DOWN: (1, 0, 1)>), ((420, 306), <Action.DOWN: (1, 0, 1)>), ((421, 306), <Action.DOWN: (1, 0, 1)>), ((422, 306), <Action.DOWN: (1, 0, 1)>), ((423, 306), <Action.SE: (1, 1, 1.4142135623730951)>), ((424, 307), <Action.SE: (1, 1, 1.4142135623730951)>), ((425, 308), <Action.SE: (1, 1, 1.4142135623730951)>), ((426, 309), <Action.SE: (1, 1, 1.4142135623730951)>), ((427, 310), <Action.SE: (1, 1, 1.4142135623730951)>), ((428, 311), <Action.SE: (1, 1, 1.4142135623730951)>), ((429, 312), <Action.SE: (1, 1, 1.4142135623730951)>), ((430, 313), <Action.SE: (1, 1, 1.4142135623730951)>), ((431, 314), <Action.SE: (1, 1, 1.4142135623730951)>), ((432, 315), <Action.SE: (1, 1, 1.4142135623730951)>), ((433, 316), <Action.SE: (1, 1, 1.4142135623730951)>), ((434, 317), <Action.SE: (1, 1, 1.4142135623730951)>), ((435, 318), <Action.SE: (1, 1, 1.4142135623730951)>), ((436, 319), <Action.SE: (1, 1, 1.4142135623730951)>), ((437, 320), <Action.SE: (1, 1, 1.4142135623730951)>), ((438, 321), <Action.SE: (1, 1, 1.4142135623730951)>), ((439, 322), <Action.SE: (1, 1, 1.4142135623730951)>), ((440, 323), <Action.SE: (1, 1, 1.4142135623730951)>), ((441, 324), <Action.SE: (1, 1, 1.4142135623730951)>), ((442, 325), <Action.SE: (1, 1, 1.4142135623730951)>), ((443, 326), <Action.SE: (1, 1, 1.4142135623730951)>), ((444, 327), <Action.SE: (1, 1, 1.4142135623730951)>), ((445, 328), <Action.SE: (1, 1, 1.4142135623730951)>), ((446, 329), <Action.SE: (1, 1, 1.4142135623730951)>), ((447, 330), <Action.SE: (1, 1, 1.4142135623730951)>), ((448, 331), <Action.SE: (1, 1, 1.4142135623730951)>), ((449, 332), <Action.SE: (1, 1, 1.4142135623730951)>), ((450, 333), <Action.SE: (1, 1, 1.4142135623730951)>), ((451, 334), <Action.SE: (1, 1, 1.4142135623730951)>), ((452, 335), <Action.SE: (1, 1, 1.4142135623730951)>), ((453, 336), <Action.SE: (1, 1, 1.4142135623730951)>), ((454, 337), <Action.SE: (1, 1, 1.4142135623730951)>), ((455, 338), <Action.SE: (1, 1, 1.4142135623730951)>), ((456, 339), <Action.RIGHT: (0, 1, 1)>), ((456, 340), <Action.RIGHT: (0, 1, 1)>), ((456, 341), <Action.RIGHT: (0, 1, 1)>), ((456, 342), <Action.RIGHT: (0, 1, 1)>), ((456, 343), <Action.RIGHT: (0, 1, 1)>), ((456, 344), <Action.RIGHT: (0, 1, 1)>), ((456, 345), <Action.RIGHT: (0, 1, 1)>), ((456, 346), <Action.RIGHT: (0, 1, 1)>), ((456, 347), <Action.RIGHT: (0, 1, 1)>), ((456, 348), <Action.RIGHT: (0, 1, 1)>), ((456, 349), <Action.RIGHT: (0, 1, 1)>), ((456, 350), <Action.RIGHT: (0, 1, 1)>), ((456, 351), <Action.RIGHT: (0, 1, 1)>), ((456, 352), <Action.RIGHT: (0, 1, 1)>), ((456, 353), <Action.SE: (1, 1, 1.4142135623730951)>), ((457, 354), <Action.DOWN: (1, 0, 1)>), ((458, 354), <Action.DOWN: (1, 0, 1)>), ((459, 354), <Action.DOWN: (1, 0, 1)>), ((460, 354), <Action.DOWN: (1, 0, 1)>), ((461, 354), <Action.DOWN: (1, 0, 1)>), ((462, 354), <Action.DOWN: (1, 0, 1)>), ((463, 354), <Action.DOWN: (1, 0, 1)>), ((464, 354), <Action.DOWN: (1, 0, 1)>), ((465, 354), <Action.DOWN: (1, 0, 1)>), ((466, 354), <Action.DOWN: (1, 0, 1)>), ((467, 354), <Action.DOWN: (1, 0, 1)>), ((468, 354), <Action.DOWN: (1, 0, 1)>), ((469, 354), <Action.DOWN: (1, 0, 1)>), ((470, 354), <Action.DOWN: (1, 0, 1)>), ((471, 354), <Action.DOWN: (1, 0, 1)>), ((472, 354), <Action.DOWN: (1, 0, 1)>), ((473, 354), <Action.DOWN: (1, 0, 1)>), ((474, 354), <Action.DOWN: (1, 0, 1)>), ((475, 354), <Action.DOWN: (1, 0, 1)>), ((476, 354), <Action.DOWN: (1, 0, 1)>), ((477, 354), <Action.DOWN: (1, 0, 1)>), ((478, 354), <Action.DOWN: (1, 0, 1)>), ((479, 354), <Action.DOWN: (1, 0, 1)>), ((480, 354), <Action.DOWN: (1, 0, 1)>), ((481, 354), <Action.DOWN: (1, 0, 1)>), ((482, 354), <Action.DOWN: (1, 0, 1)>), ((483, 354), <Action.DOWN: (1, 0, 1)>), ((484, 354), <Action.DOWN: (1, 0, 1)>), ((485, 354), <Action.DOWN: (1, 0, 1)>), ((486, 354), <Action.DOWN: (1, 0, 1)>), ((487, 354), <Action.DOWN: (1, 0, 1)>), ((488, 354), <Action.DOWN: (1, 0, 1)>), ((489, 354), <Action.DOWN: (1, 0, 1)>), ((490, 354), <Action.DOWN: (1, 0, 1)>), ((491, 354), <Action.DOWN: (1, 0, 1)>), ((492, 354), <Action.DOWN: (1, 0, 1)>), ((493, 354), <Action.DOWN: (1, 0, 1)>), ((494, 354), <Action.DOWN: (1, 0, 1)>), ((495, 354), <Action.DOWN: (1, 0, 1)>), ((496, 354), <Action.DOWN: (1, 0, 1)>), ((497, 354), <Action.DOWN: (1, 0, 1)>), ((498, 354), <Action.DOWN: (1, 0, 1)>), ((499, 354), <Action.DOWN: (1, 0, 1)>), ((500, 354), <Action.DOWN: (1, 0, 1)>), ((501, 354), <Action.DOWN: (1, 0, 1)>), ((502, 354), <Action.DOWN: (1, 0, 1)>), ((503, 354), <Action.DOWN: (1, 0, 1)>), ((504, 354), <Action.DOWN: (1, 0, 1)>), ((505, 354), <Action.DOWN: (1, 0, 1)>), ((506, 354), <Action.DOWN: (1, 0, 1)>), ((507, 354), <Action.DOWN: (1, 0, 1)>), ((508, 354), <Action.DOWN: (1, 0, 1)>), ((509, 354), <Action.DOWN: (1, 0, 1)>), ((510, 354), <Action.DOWN: (1, 0, 1)>), ((511, 354), <Action.DOWN: (1, 0, 1)>), ((512, 354), <Action.DOWN: (1, 0, 1)>), ((513, 354), <Action.DOWN: (1, 0, 1)>), ((514, 354), <Action.DOWN: (1, 0, 1)>), ((515, 354), <Action.DOWN: (1, 0, 1)>), ((516, 354), <Action.DOWN: (1, 0, 1)>), ((517, 354), <Action.DOWN: (1, 0, 1)>), ((518, 354), <Action.DOWN: (1, 0, 1)>), ((519, 354), <Action.DOWN: (1, 0, 1)>), ((520, 354), <Action.DOWN: (1, 0, 1)>), ((521, 354), <Action.DOWN: (1, 0, 1)>), ((522, 354), <Action.DOWN: (1, 0, 1)>), ((523, 354), <Action.DOWN: (1, 0, 1)>), ((524, 354), <Action.DOWN: (1, 0, 1)>), ((525, 354), <Action.DOWN: (1, 0, 1)>), ((526, 354), <Action.DOWN: (1, 0, 1)>), ((527, 354), <Action.DOWN: (1, 0, 1)>), ((528, 354), <Action.DOWN: (1, 0, 1)>), ((529, 354), <Action.DOWN: (1, 0, 1)>), ((530, 354), <Action.DOWN: (1, 0, 1)>), ((531, 354), <Action.DOWN: (1, 0, 1)>), ((532, 354), <Action.DOWN: (1, 0, 1)>), ((533, 354), <Action.DOWN: (1, 0, 1)>), ((534, 354), <Action.DOWN: (1, 0, 1)>), ((535, 354), <Action.DOWN: (1, 0, 1)>), ((536, 354), <Action.DOWN: (1, 0, 1)>), ((537, 354), <Action.DOWN: (1, 0, 1)>), ((538, 354), <Action.DOWN: (1, 0, 1)>), ((539, 354), <Action.DOWN: (1, 0, 1)>), ((540, 354), <Action.DOWN: (1, 0, 1)>), ((541, 354), <Action.DOWN: (1, 0, 1)>), ((542, 354), <Action.DOWN: (1, 0, 1)>), ((543, 354), <Action.DOWN: (1, 0, 1)>), ((544, 354), <Action.DOWN: (1, 0, 1)>), ((545, 354), <Action.DOWN: (1, 0, 1)>), ((546, 354), <Action.DOWN: (1, 0, 1)>), ((547, 354), <Action.DOWN: (1, 0, 1)>), ((548, 354), <Action.DOWN: (1, 0, 1)>), ((549, 354), <Action.DOWN: (1, 0, 1)>), ((550, 354), <Action.DOWN: (1, 0, 1)>), ((551, 354), <Action.DOWN: (1, 0, 1)>), ((552, 354), <Action.DOWN: (1, 0, 1)>), ((553, 354), <Action.DOWN: (1, 0, 1)>), ((554, 354), <Action.DOWN: (1, 0, 1)>), ((555, 354), <Action.DOWN: (1, 0, 1)>), ((556, 354), <Action.DOWN: (1, 0, 1)>), ((557, 354), <Action.DOWN: (1, 0, 1)>), ((558, 354), <Action.DOWN: (1, 0, 1)>), ((559, 354), <Action.DOWN: (1, 0, 1)>), ((560, 354), <Action.DOWN: (1, 0, 1)>), ((561, 354), <Action.DOWN: (1, 0, 1)>), ((562, 354), <Action.DOWN: (1, 0, 1)>), ((563, 354), <Action.DOWN: (1, 0, 1)>), ((564, 354), <Action.DOWN: (1, 0, 1)>), ((565, 354), <Action.DOWN: (1, 0, 1)>), ((566, 354), <Action.DOWN: (1, 0, 1)>), ((567, 354), <Action.DOWN: (1, 0, 1)>), ((568, 354), <Action.DOWN: (1, 0, 1)>), ((569, 354), <Action.DOWN: (1, 0, 1)>), ((570, 354), <Action.DOWN: (1, 0, 1)>), ((571, 354), <Action.SE: (1, 1, 1.4142135623730951)>), ((572, 355), <Action.SE: (1, 1, 1.4142135623730951)>), ((573, 356), <Action.SE: (1, 1, 1.4142135623730951)>), ((574, 357), <Action.SE: (1, 1, 1.4142135623730951)>), ((575, 358), <Action.SE: (1, 1, 1.4142135623730951)>), ((576, 359), <Action.SE: (1, 1, 1.4142135623730951)>), ((577, 360), <Action.SE: (1, 1, 1.4142135623730951)>), ((578, 361), <Action.SE: (1, 1, 1.4142135623730951)>), ((579, 362), <Action.SE: (1, 1, 1.4142135623730951)>), ((580, 363), <Action.SE: (1, 1, 1.4142135623730951)>), ((581, 364), <Action.SE: (1, 1, 1.4142135623730951)>), ((582, 365), <Action.SE: (1, 1, 1.4142135623730951)>), ((583, 366), <Action.SE: (1, 1, 1.4142135623730951)>), ((584, 367), <Action.SE: (1, 1, 1.4142135623730951)>), ((585, 368), <Action.SE: (1, 1, 1.4142135623730951)>), ((586, 369), <Action.SE: (1, 1, 1.4142135623730951)>), ((587, 370), <Action.SE: (1, 1, 1.4142135623730951)>), ((588, 371), <Action.SE: (1, 1, 1.4142135623730951)>), ((589, 372), <Action.SE: (1, 1, 1.4142135623730951)>), ((590, 373), <Action.SE: (1, 1, 1.4142135623730951)>), ((591, 374), <Action.SE: (1, 1, 1.4142135623730951)>), ((592, 375), <Action.SE: (1, 1, 1.4142135623730951)>), ((593, 376), <Action.SE: (1, 1, 1.4142135623730951)>), ((594, 377), <Action.SE: (1, 1, 1.4142135623730951)>), ((595, 378), <Action.SE: (1, 1, 1.4142135623730951)>), ((596, 379), <Action.RIGHT: (0, 1, 1)>), ((596, 380), <Action.RIGHT: (0, 1, 1)>), ((596, 381), <Action.RIGHT: (0, 1, 1)>), ((596, 382), <Action.RIGHT: (0, 1, 1)>), ((596, 383), <Action.SE: (1, 1, 1.4142135623730951)>), ((597, 384), <Action.DOWN: (1, 0, 1)>), ((598, 384), <Action.DOWN: (1, 0, 1)>), ((599, 384), <Action.DOWN: (1, 0, 1)>), ((600, 384), <Action.DOWN: (1, 0, 1)>), ((601, 384), <Action.DOWN: (1, 0, 1)>), ((602, 384), <Action.DOWN: (1, 0, 1)>), ((603, 384), <Action.DOWN: (1, 0, 1)>), ((604, 384), <Action.DOWN: (1, 0, 1)>), ((605, 384), <Action.DOWN: (1, 0, 1)>), ((606, 384), <Action.DOWN: (1, 0, 1)>), ((607, 384), <Action.DOWN: (1, 0, 1)>), ((608, 384), <Action.DOWN: (1, 0, 1)>), ((609, 384), <Action.DOWN: (1, 0, 1)>), ((610, 384), <Action.DOWN: (1, 0, 1)>), ((611, 384), <Action.DOWN: (1, 0, 1)>), ((612, 384), <Action.DOWN: (1, 0, 1)>), ((613, 384), <Action.DOWN: (1, 0, 1)>), ((614, 384), <Action.DOWN: (1, 0, 1)>), ((615, 384), <Action.DOWN: (1, 0, 1)>), ((616, 384), <Action.DOWN: (1, 0, 1)>), ((617, 384), <Action.DOWN: (1, 0, 1)>), ((618, 384), <Action.DOWN: (1, 0, 1)>), ((619, 384), <Action.DOWN: (1, 0, 1)>), ((620, 384), <Action.DOWN: (1, 0, 1)>), ((621, 384), <Action.DOWN: (1, 0, 1)>), ((622, 384), <Action.DOWN: (1, 0, 1)>), ((623, 384), <Action.DOWN: (1, 0, 1)>), ((624, 384), <Action.DOWN: (1, 0, 1)>), ((625, 384), <Action.DOWN: (1, 0, 1)>), ((626, 384), <Action.DOWN: (1, 0, 1)>), ((627, 384), <Action.DOWN: (1, 0, 1)>), ((628, 384), <Action.DOWN: (1, 0, 1)>), ((629, 384), <Action.DOWN: (1, 0, 1)>), ((630, 384), <Action.DOWN: (1, 0, 1)>), ((631, 384), <Action.DOWN: (1, 0, 1)>), ((632, 384), <Action.DOWN: (1, 0, 1)>), ((633, 384), <Action.DOWN: (1, 0, 1)>), ((634, 384), <Action.DOWN: (1, 0, 1)>), ((635, 384), <Action.DOWN: (1, 0, 1)>), ((636, 384), <Action.DOWN: (1, 0, 1)>), ((637, 384), <Action.DOWN: (1, 0, 1)>), ((638, 384), <Action.DOWN: (1, 0, 1)>), ((639, 384), <Action.DOWN: (1, 0, 1)>), ((640, 384), <Action.DOWN: (1, 0, 1)>), ((641, 384), <Action.DOWN: (1, 0, 1)>), ((642, 384), <Action.DOWN: (1, 0, 1)>), ((643, 384), <Action.DOWN: (1, 0, 1)>), ((644, 384), <Action.DOWN: (1, 0, 1)>), ((645, 384), <Action.DOWN: (1, 0, 1)>), ((646, 384), <Action.DOWN: (1, 0, 1)>), ((647, 384), <Action.DOWN: (1, 0, 1)>), ((648, 384), <Action.DOWN: (1, 0, 1)>), ((649, 384), <Action.DOWN: (1, 0, 1)>), ((650, 384), <Action.DOWN: (1, 0, 1)>), ((651, 384), <Action.DOWN: (1, 0, 1)>), ((652, 384), <Action.DOWN: (1, 0, 1)>), ((653, 384), <Action.DOWN: (1, 0, 1)>), ((654, 384), <Action.DOWN: (1, 0, 1)>), ((655, 384), <Action.DOWN: (1, 0, 1)>), ((656, 384), <Action.DOWN: (1, 0, 1)>), ((657, 384), <Action.DOWN: (1, 0, 1)>), ((658, 384), <Action.DOWN: (1, 0, 1)>), ((659, 384), <Action.DOWN: (1, 0, 1)>), ((660, 384), <Action.DOWN: (1, 0, 1)>), ((661, 384), <Action.DOWN: (1, 0, 1)>), ((662, 384), <Action.DOWN: (1, 0, 1)>), ((663, 384), <Action.DOWN: (1, 0, 1)>), ((664, 384), <Action.DOWN: (1, 0, 1)>), ((665, 384), <Action.DOWN: (1, 0, 1)>), ((666, 384), <Action.DOWN: (1, 0, 1)>), ((667, 384), <Action.DOWN: (1, 0, 1)>), ((668, 384), <Action.DOWN: (1, 0, 1)>), ((669, 384), <Action.DOWN: (1, 0, 1)>), ((670, 384), <Action.DOWN: (1, 0, 1)>), ((671, 384), <Action.DOWN: (1, 0, 1)>), ((672, 384), <Action.DOWN: (1, 0, 1)>), ((673, 384), <Action.DOWN: (1, 0, 1)>), ((674, 384), <Action.DOWN: (1, 0, 1)>), ((675, 384), <Action.DOWN: (1, 0, 1)>), ((676, 384), <Action.DOWN: (1, 0, 1)>), ((677, 384), <Action.DOWN: (1, 0, 1)>), ((678, 384), <Action.DOWN: (1, 0, 1)>), ((679, 384), <Action.DOWN: (1, 0, 1)>), ((680, 384), <Action.DOWN: (1, 0, 1)>), ((681, 384), <Action.DOWN: (1, 0, 1)>), ((682, 384), <Action.DOWN: (1, 0, 1)>), ((683, 384), <Action.DOWN: (1, 0, 1)>), ((684, 384), <Action.DOWN: (1, 0, 1)>), ((685, 384), <Action.DOWN: (1, 0, 1)>), ((686, 384), <Action.DOWN: (1, 0, 1)>), ((687, 384), <Action.DOWN: (1, 0, 1)>), ((688, 384), <Action.DOWN: (1, 0, 1)>), ((689, 384), <Action.DOWN: (1, 0, 1)>), ((690, 384), <Action.DOWN: (1, 0, 1)>), ((691, 384), <Action.DOWN: (1, 0, 1)>), ((692, 384), <Action.DOWN: (1, 0, 1)>), ((693, 384), <Action.DOWN: (1, 0, 1)>), ((694, 384), <Action.DOWN: (1, 0, 1)>), ((695, 384), <Action.DOWN: (1, 0, 1)>), ((696, 384), <Action.DOWN: (1, 0, 1)>), ((697, 384), <Action.DOWN: (1, 0, 1)>), ((698, 384), <Action.DOWN: (1, 0, 1)>), ((699, 384), <Action.DOWN: (1, 0, 1)>), ((700, 384), <Action.DOWN: (1, 0, 1)>), ((701, 384), <Action.DOWN: (1, 0, 1)>), ((702, 384), <Action.DOWN: (1, 0, 1)>), ((703, 384), <Action.DOWN: (1, 0, 1)>), ((704, 384), <Action.DOWN: (1, 0, 1)>), ((705, 384), <Action.DOWN: (1, 0, 1)>), ((706, 384), <Action.DOWN: (1, 0, 1)>), ((707, 384), <Action.DOWN: (1, 0, 1)>), ((708, 384), <Action.DOWN: (1, 0, 1)>), ((709, 384), <Action.DOWN: (1, 0, 1)>), ((710, 384), <Action.DOWN: (1, 0, 1)>), ((711, 384), <Action.DOWN: (1, 0, 1)>), ((712, 384), <Action.DOWN: (1, 0, 1)>), ((713, 384), <Action.DOWN: (1, 0, 1)>), ((714, 384), <Action.DOWN: (1, 0, 1)>), ((715, 384), <Action.DOWN: (1, 0, 1)>), ((716, 384), <Action.DOWN: (1, 0, 1)>), ((717, 384), <Action.DOWN: (1, 0, 1)>), ((718, 384), <Action.DOWN: (1, 0, 1)>), ((719, 384), <Action.DOWN: (1, 0, 1)>), ((720, 384), <Action.NE: (1, -1, 1.4142135623730951)>), ((721, 383), <Action.DOWN: (1, 0, 1)>), ((722, 383), <Action.NE: (1, -1, 1.4142135623730951)>), ((723, 382), <Action.DOWN: (1, 0, 1)>), ((724, 382), <Action.NE: (1, -1, 1.4142135623730951)>), ((725, 381), <Action.DOWN: (1, 0, 1)>), ((726, 381), <Action.NE: (1, -1, 1.4142135623730951)>), ((727, 380), <Action.DOWN: (1, 0, 1)>), ((728, 380), <Action.DOWN: (1, 0, 1)>), ((729, 380), <Action.NE: (1, -1, 1.4142135623730951)>), ((730, 379), <Action.DOWN: (1, 0, 1)>), ((731, 379), <Action.NE: (1, -1, 1.4142135623730951)>), ((732, 378), <Action.DOWN: (1, 0, 1)>), ((733, 378), <Action.NE: (1, -1, 1.4142135623730951)>), ((734, 377), <Action.DOWN: (1, 0, 1)>), ((735, 377), <Action.NE: (1, -1, 1.4142135623730951)>), ((736, 376), <Action.DOWN: (1, 0, 1)>), ((737, 376), <Action.NE: (1, -1, 1.4142135623730951)>), ((738, 375), <Action.DOWN: (1, 0, 1)>), ((739, 375), <Action.DOWN: (1, 0, 1)>), ((740, 375), <Action.NE: (1, -1, 1.4142135623730951)>), ((741, 374), <Action.DOWN: (1, 0, 1)>), ((742, 374), <Action.NE: (1, -1, 1.4142135623730951)>), ((743, 373), <Action.DOWN: (1, 0, 1)>), ((744, 373), <Action.NE: (1, -1, 1.4142135623730951)>), ((745, 372), <Action.DOWN: (1, 0, 1)>), ((746, 372), <Action.NE: (1, -1, 1.4142135623730951)>), ((747, 371), <Action.DOWN: (1, 0, 1)>), ((748, 371), <Action.NE: (1, -1, 1.4142135623730951)>), ((749, 370), <Action.DOWN: (1, 0, 1)>), ((750.0, 370.0), None)] 898.4945160902303\n"
     ]
    }
   ],
   "source": [
    "# TODO: use `a_star` to compute the lowest cost path\n",
    "path, cost = a_star_grid(grid, heuristic, start_ne, goal_ne)\n",
    "print(path, cost)"
   ]
  },
  {
   "cell_type": "markdown",
   "metadata": {},
   "source": [
    "Let's plot the path!"
   ]
  },
  {
   "cell_type": "code",
   "execution_count": 16,
   "metadata": {},
   "outputs": [
    {
     "data": {
      "image/png": "[encoded data removed]",
      "text/plain": [
       "<matplotlib.figure.Figure at 0x1b45ef905f8>"
      ]
     },
     "metadata": {
      "needs_background": "light"
     },
     "output_type": "display_data"
    }
   ],
   "source": [
    "plt.imshow(grid, cmap='Greys', origin='lower')\n",
    "\n",
    "# For the purposes of the visual the east coordinate lay along\n",
    "# the x-axis and the north coordinates long the y-axis.\n",
    "plt.plot(start_ne[1], start_ne[0], 'x')\n",
    "plt.plot(goal_ne[1], goal_ne[0], 'x')\n",
    "\n",
    "if path is not None:\n",
    "    pp = np.array([p[0] for p in path])\n",
    "    plt.plot(pp[:, 1], pp[:, 0], 'g')\n",
    "\n",
    "plt.xlabel('EAST')\n",
    "plt.ylabel('NORTH')\n",
    "plt.show()"
   ]
  },
  {
   "cell_type": "markdown",
   "metadata": {},
   "source": [
    "Pretty neat! Unfortunately this path is impractical, the drone would be constantly stopping and going since each grid cell visited is synonymous with a waypoint. Ideally, we'd like to only consider a new waypoint when the drone's direction changes. Path pruning is one way to achieve this result."
   ]
  },
  {
   "cell_type": "markdown",
   "metadata": {},
   "source": [
    "### Path Pruning"
   ]
  },
  {
   "cell_type": "code",
   "execution_count": 17,
   "metadata": {},
   "outputs": [],
   "source": [
    "def point(p):\n",
    "    return np.array([p[0], p[1], 1.]).reshape(1, -1)\n",
    "\n",
    "def collinearity_check(p1, p2, p3, epsilon=1e-6):   \n",
    "    m = np.concatenate((p1, p2, p3), 0)\n",
    "    det = np.linalg.det(m)\n",
    "    return abs(det) < epsilon"
   ]
  },
  {
   "cell_type": "markdown",
   "metadata": {},
   "source": [
    "Complete the `prune_path` function below. It should return a new path much shorter than the original."
   ]
  },
  {
   "cell_type": "code",
   "execution_count": 18,
   "metadata": {},
   "outputs": [],
   "source": [
    "def prune_path(path):\n",
    "    if path is not None:\n",
    "        pruned_path = [path[0]]\n",
    "        next_ind = 0\n",
    "        for next_ind in range(1, len(path)-1):\n",
    "            if not collinearity_check(point(pruned_path[-1]), \n",
    "                                      point(path[next_ind]), \n",
    "                                      point(path[next_ind+1])):\n",
    "                pruned_path.append(path[next_ind])\n",
    "        pruned_path.append(path[-1])\n",
    "        \n",
    "    else:\n",
    "        pruned_path = path\n",
    "        \n",
    "    return pruned_path"
   ]
  },
  {
   "cell_type": "markdown",
   "metadata": {},
   "source": [
    "Prune the path."
   ]
  },
  {
   "cell_type": "code",
   "execution_count": 19,
   "metadata": {},
   "outputs": [
    {
     "name": "stdout",
     "output_type": "stream",
     "text": [
      "[(25, 100), (36, 111), (36, 143), (176, 283), (176, 293), (207, 324), (319, 324), (327, 316), (377, 316), (387, 306), (423, 306), (456, 339), (456, 353), (457, 354), (571, 354), (596, 379), (596, 383), (597, 384), (720, 384), (721, 383), (722, 383), (723, 382), (724, 382), (725, 381), (726, 381), (727, 380), (729, 380), (730, 379), (731, 379), (732, 378), (733, 378), (734, 377), (735, 377), (736, 376), (737, 376), (738, 375), (740, 375), (741, 374), (742, 374), (743, 373), (744, 373), (745, 372), (746, 372), (747, 371), (748, 371), (749, 370), (750.0, 370.0)]\n"
     ]
    }
   ],
   "source": [
    "pruned_path = prune_path([p[0] for p in path])\n",
    "print(pruned_path)"
   ]
  },
  {
   "cell_type": "code",
   "execution_count": 20,
   "metadata": {},
   "outputs": [
    {
     "data": {
      "text/plain": [
       "[(25, 100),\n",
       " (36, 111),\n",
       " (36, 143),\n",
       " (176, 283),\n",
       " (176, 293),\n",
       " (207, 324),\n",
       " (319, 324),\n",
       " (327, 316),\n",
       " (377, 316),\n",
       " (387, 306),\n",
       " (423, 306),\n",
       " (456, 339),\n",
       " (456, 353),\n",
       " (457, 354),\n",
       " (571, 354),\n",
       " (596, 379),\n",
       " (596, 383),\n",
       " (597, 384),\n",
       " (720, 384),\n",
       " (721, 383),\n",
       " (722, 383),\n",
       " (723, 382),\n",
       " (724, 382),\n",
       " (725, 381),\n",
       " (726, 381),\n",
       " (727, 380),\n",
       " (729, 380),\n",
       " (730, 379),\n",
       " (731, 379),\n",
       " (732, 378),\n",
       " (733, 378),\n",
       " (734, 377),\n",
       " (735, 377),\n",
       " (736, 376),\n",
       " (737, 376),\n",
       " (738, 375),\n",
       " (740, 375),\n",
       " (741, 374),\n",
       " (742, 374),\n",
       " (743, 373),\n",
       " (744, 373),\n",
       " (745, 372),\n",
       " (746, 372),\n",
       " (747, 371),\n",
       " (748, 371),\n",
       " (749, 370),\n",
       " (750.0, 370.0)]"
      ]
     },
     "execution_count": 20,
     "metadata": {},
     "output_type": "execute_result"
    }
   ],
   "source": [
    "pruned_path"
   ]
  },
  {
   "cell_type": "markdown",
   "metadata": {},
   "source": [
    "Replot the path, it will be the same as before but the drone flight will be much smoother."
   ]
  },
  {
   "cell_type": "code",
   "execution_count": 21,
   "metadata": {},
   "outputs": [
    {
     "data": {
      "image/png": "[encoded data removed]",
      "text/plain": [
       "<matplotlib.figure.Figure at 0x1b45de130f0>"
      ]
     },
     "metadata": {
      "needs_background": "light"
     },
     "output_type": "display_data"
    }
   ],
   "source": [
    "plt.imshow(grid, cmap='Greys', origin='lower')\n",
    "\n",
    "plt.plot(start_ne[1], start_ne[0], 'x')\n",
    "plt.plot(goal_ne[1], goal_ne[0], 'x')\n",
    "\n",
    "if pruned_path is not None:\n",
    "    pp = np.array(pruned_path)\n",
    "    plt.plot(pp[:, 1], pp[:, 0], 'g')\n",
    "    plt.scatter(pp[:, 1], pp[:, 0])\n",
    "\n",
    "plt.xlabel('EAST')\n",
    "plt.ylabel('NORTH')\n",
    "\n",
    "plt.show()"
   ]
  },
  {
   "cell_type": "markdown",
   "metadata": {},
   "source": [
    "Now the waypoints symbolize a change in direction, much better!"
   ]
  },
  {
   "cell_type": "markdown",
   "metadata": {},
   "source": [
    "[solution](/notebooks/A-Star-City-Solution.ipynb)"
   ]
  },
  {
   "cell_type": "code",
   "execution_count": null,
   "metadata": {},
   "outputs": [],
   "source": []
  }
 ],
 "metadata": {
  "kernelspec": {
   "display_name": "Python [conda env:fcnd]",
   "language": "python",
   "name": "conda-env-fcnd-py"
  },
  "language_info": {
   "codemirror_mode": {
    "name": "ipython",
    "version": 3
   },
   "file_extension": ".py",
   "mimetype": "text/x-python",
   "name": "python",
   "nbconvert_exporter": "python",
   "pygments_lexer": "ipython3",
   "version": "3.6.3"
  }
 },
 "nbformat": 4,
 "nbformat_minor": 2
}
