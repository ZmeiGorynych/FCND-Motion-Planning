{
 "cells": [
  {
   "cell_type": "markdown",
   "metadata": {},
   "source": [
    "# A*"
   ]
  },
  {
   "cell_type": "code",
   "execution_count": 1,
   "metadata": {},
   "outputs": [],
   "source": [
    "from queue import PriorityQueue\n",
    "import numpy as np\n",
    "from enum import Enum\n",
    "import sys\n",
    "sys.path.append('..')"
   ]
  },
  {
   "cell_type": "code",
   "execution_count": 2,
   "metadata": {},
   "outputs": [],
   "source": [
    "def visualize_path(grid, path, start):\n",
    "    sgrid = np.zeros(np.shape(grid), dtype=np.str)\n",
    "    sgrid[:] = ' '\n",
    "    sgrid[grid[:] == 1] = 'O'\n",
    "    \n",
    "    pos = start\n",
    "    \n",
    "    for a in path:\n",
    "        if a[1] is not None:\n",
    "            da = a[1].value\n",
    "            sgrid[pos[0], pos[1]] = str(a[1])\n",
    "            pos = (pos[0] + da[0], pos[1] + da[1])\n",
    "    sgrid[pos[0], pos[1]] = 'G'\n",
    "    sgrid[start[0], start[1]] = 'S'  \n",
    "    return sgrid\n"
   ]
  },
  {
   "cell_type": "markdown",
   "metadata": {},
   "source": [
    "## Heuristics\n",
    "The heuristic function determines the $h()$ value for each cell based on the goal cell and the method chosen to determine it. The heuristic value can be the Euclidean distance between these cells $h= \\left((x_i-x_{goal})^2+(y_i-y_{goal})^2\\right)^{1/2}$ or the \"Manhattan distance\", which is the minimum number of moves required to reach the goal from the assigned cell $h = ||x_i-x_{goal}|| + ||y_i-y_{goal}||$. For this exercise you could use either, or something else which is *admissible* and *consistent*.\n",
    "\n",
    "The input variables include\n",
    "* **```position```** the coordinates of the cell for which you would like to determine the heuristic value.\n",
    "* **```goal_position```** the coordinates of the goal cell"
   ]
  },
  {
   "cell_type": "markdown",
   "metadata": {},
   "source": [
    "## A* search\n",
    "\n",
    "A* search is an extension of the cost search you implemented. A heuristic function is used in addition to the cost penalty. Thus if the setup is:\n",
    "\n",
    "* $c$ is the current cost\n",
    "* $g$ is the cost function\n",
    "* $h$ is the heuristic function\n",
    "\n",
    "Then the new cost is $c_{new} = c + g() + h()$.\n",
    "\n",
    "The difference between $g$ and $h$ is that $g$ models the cost of performing actions, irrespective of the environment, while $h$ models the cost based on the environment, i.e., the distance to the goal."
   ]
  },
  {
   "cell_type": "markdown",
   "metadata": {},
   "source": [
    "You know what comes next, turn the `TODOs` into `DONEs` :)"
   ]
  },
  {
   "cell_type": "code",
   "execution_count": 3,
   "metadata": {},
   "outputs": [],
   "source": [
    "start = (0, 0)\n",
    "goal = (4, 3)\n",
    "\n",
    "grid = np.array([\n",
    "    [0, 1, 0, 0, 0, 0],\n",
    "    [0, 0, 0, 0, 0, 0],\n",
    "    [0, 1, 0, 0, 0, 0],\n",
    "    [0, 0, 1, 1, 1, 0],\n",
    "    [0, 0, 1, 0, 0, 0],\n",
    "])"
   ]
  },
  {
   "cell_type": "code",
   "execution_count": 4,
   "metadata": {},
   "outputs": [
    {
     "name": "stdout",
     "output_type": "stream",
     "text": [
      "Found a path.\n",
      "[((0, 0), <Action.SE: (1, 1, 1.4142135623730951)>), ((1, 1), <Action.SE: (1, 1, 1.4142135623730951)>), ((2, 2), <Action.RIGHT: (0, 1, 1)>), ((2, 3), <Action.RIGHT: (0, 1, 1)>), ((2, 4), <Action.SE: (1, 1, 1.4142135623730951)>), ((3, 5), <Action.NE: (1, -1, 1.4142135623730951)>), ((4, 4), <Action.LEFT: (0, -1, 1)>), ((4, 3), None)] 8.65685424949238\n"
     ]
    }
   ],
   "source": [
    "from astar import heuristic, a_star_grid\n",
    "path, cost = a_star_grid(grid, heuristic, start, goal)\n",
    "print(path, cost)"
   ]
  },
  {
   "cell_type": "code",
   "execution_count": 5,
   "metadata": {},
   "outputs": [
    {
     "data": {
      "text/plain": [
       "array([['S', 'O', ' ', ' ', ' ', ' '],\n",
       "       [' ', 'S', ' ', ' ', ' ', ' '],\n",
       "       [' ', 'O', '>', '>', 'S', ' '],\n",
       "       [' ', ' ', 'O', 'O', 'O', 'N'],\n",
       "       [' ', ' ', 'O', 'G', '<', ' ']], dtype='<U1')"
      ]
     },
     "execution_count": 5,
     "metadata": {},
     "output_type": "execute_result"
    }
   ],
   "source": [
    "# S -> start, G -> goal, O -> obstacle\n",
    "visualize_path(grid, path, start)"
   ]
  },
  {
   "cell_type": "markdown",
   "metadata": {},
   "source": [
    "[Solution](/notebooks/A-Star-Solution.ipynb)"
   ]
  },
  {
   "cell_type": "code",
   "execution_count": null,
   "metadata": {},
   "outputs": [],
   "source": []
  }
 ],
 "metadata": {
  "kernelspec": {
   "display_name": "Python [default]",
   "language": "python",
   "name": "python3"
  },
  "language_info": {
   "codemirror_mode": {
    "name": "ipython",
    "version": 3
   },
   "file_extension": ".py",
   "mimetype": "text/x-python",
   "name": "python",
   "nbconvert_exporter": "python",
   "pygments_lexer": "ipython3",
   "version": "3.6.5"
  },
  "pycharm": {
   "stem_cell": {
    "cell_type": "raw",
    "metadata": {
     "collapsed": false
    },
    "source": []
   }
  }
 },
 "nbformat": 4,
 "nbformat_minor": 2
}
